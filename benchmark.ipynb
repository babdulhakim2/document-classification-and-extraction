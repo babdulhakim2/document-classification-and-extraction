{
 "cells": [
  {
   "cell_type": "markdown",
   "metadata": {},
   "source": [
    "# Document Classification Benchmark\n",
    "Comparing Gemini Flash 2.5, Mistral OCR, and GPT-4o on document categorization and extraction tasks"
   ]
  },
  {
   "cell_type": "code",
   "execution_count": null,
   "metadata": {},
   "outputs": [],
   "source": [
    "import os\n",
    "import pandas as pd\n",
    "import numpy as np\n",
    "import matplotlib.pyplot as plt\n",
    "import seaborn as sns\n",
    "from tqdm import tqdm\n",
    "from sklearn.metrics import accuracy_score, classification_report, f1_score\n",
    "import requests\n",
    "import zipfile\n",
    "from pathlib import Path\n",
    "import time\n",
    "from dotenv import load_dotenv\n",
    "\n",
    "from model import OpenRouterClient\n",
    "from processor import DocumentProcessor\n"
   ]
  },
  {
   "cell_type": "code",
   "execution_count": null,
   "metadata": {},
   "outputs": [],
   "source": [
    "# Setup\n",
    "load_dotenv()\n",
    "API_KEY = os.getenv('OPENROUTER_API_KEY')\n",
    "client = OpenRouterClient(API_KEY)\n",
    "processor = DocumentProcessor()\n",
    "\n",
    "models_to_test = ['gemini-flash-2.5', 'gpt-4o']\n",
    "results = {}"
   ]
  },
  {
   "cell_type": "markdown",
   "metadata": {},
   "source": [
    "## Dataset Setup\n",
    "Download and prepare test datasets"
   ]
  },
  {
   "cell_type": "code",
   "execution_count": 17,
   "metadata": {},
   "outputs": [],
   "source": [
    "# Dataset setup: build test cases from any files placed in the `data/` directory\n",
    "import base64\n",
    "import mimetypes\n",
    "from pathlib import Path\n",
    "\n",
    "# Ensure data directory exists\n",
    "Path('data').mkdir(exist_ok=True)\n",
    "\n",
    "\n",
    "def file_to_test_case(p: Path):\n",
    "    \"\"\"Create a test case dict from a file path.\n",
    "    - Images and PDFs are encoded as data URIs in `file_base64`.\n",
    "    - Text files are read into `text`.\n",
    "    - Other binaries fall back to `file_path` so downstream code can handle them.\n",
    "    Category is set to the file stem by default.\n",
    "    \"\"\"\n",
    "    mime, _ = mimetypes.guess_type(str(p))\n",
    "    if mime is None:\n",
    "        mime = 'application/octet-stream'\n",
    "\n",
    "    if mime.startswith('image/') or mime == 'application/pdf':\n",
    "        with open(p, 'rb') as f:\n",
    "            b = f.read()\n",
    "        b64 = base64.b64encode(b).decode()\n",
    "        data_uri = f\"data:{mime};base64,{b64}\"\n",
    "        return {'category': p.stem, 'file_base64': data_uri, 'expected_entities': {}}\n",
    "\n",
    "    if mime.startswith('text/') or p.suffix.lower() in {'.txt', '.md', '.csv'}:\n",
    "        with open(p, 'r', encoding='utf-8', errors='replace') as f:\n",
    "            text = f.read()\n",
    "        return {'category': p.stem, 'text': text, 'expected_entities': {}}\n",
    "\n",
    "    # Fallback: provide file path for custom handling\n",
    "    return {'category': p.stem, 'file_path': str(p), 'expected_entities': {}}\n",
    "\n",
    "\n",
    "# Build test cases from files in data/\n",
    "data_files = sorted([p for p in Path('data').iterdir() if p.is_file()])\n",
    "test_cases = [file_to_test_case(p) for p in data_files]"
   ]
  },
  {
   "cell_type": "markdown",
   "metadata": {},
   "source": [
    "## Model Benchmarking"
   ]
  },
  {
   "cell_type": "code",
   "execution_count": 5,
   "metadata": {},
   "outputs": [
    {
     "name": "stdout",
     "output_type": "stream",
     "text": [
      "\n",
      "Benchmarking gemini-flash-2.5...\n"
     ]
    },
    {
     "name": "stderr",
     "output_type": "stream",
     "text": [
      "Processing gemini-flash-2.5: 100%|██████████| 3/3 [00:05<00:00,  1.87s/it]\n"
     ]
    },
    {
     "name": "stdout",
     "output_type": "stream",
     "text": [
      "\n",
      "Benchmarking mistral-ocr...\n"
     ]
    },
    {
     "name": "stderr",
     "output_type": "stream",
     "text": [
      "Processing mistral-ocr: 100%|██████████| 3/3 [00:03<00:00,  1.12s/it]\n"
     ]
    },
    {
     "name": "stdout",
     "output_type": "stream",
     "text": [
      "\n",
      "Benchmarking gpt-4o...\n"
     ]
    },
    {
     "name": "stderr",
     "output_type": "stream",
     "text": [
      "Processing gpt-4o: 100%|██████████| 3/3 [00:06<00:00,  2.29s/it]\n"
     ]
    }
   ],
   "source": [
    "def run_benchmark(model_name, test_cases):\n",
    "    print(f\"\\nBenchmarking {model_name}...\")\n",
    "    \n",
    "    predictions = []\n",
    "    true_labels = []\n",
    "    processing_times = []\n",
    "    costs = []\n",
    "    errors = 0\n",
    "    \n",
    "    for case in tqdm(test_cases, desc=f\"Processing {model_name}\"):\n",
    "        try:\n",
    "            start_time = time.time()\n",
    "            result = client.classify_and_extract(\n",
    "                text=case['text'], \n",
    "                image_base64=None, \n",
    "                model_name=model_name\n",
    "            )\n",
    "            \n",
    "            predictions.append(result.category.value)\n",
    "            true_labels.append(case['category'])\n",
    "            processing_times.append(result.processing_time or 0)\n",
    "            costs.append(result.cost or 0)\n",
    "            \n",
    "        except Exception as e:\n",
    "            print(f\"Error with {model_name}: {e}\")\n",
    "            predictions.append('other')\n",
    "            true_labels.append(case['category'])\n",
    "            processing_times.append(0)\n",
    "            costs.append(0)\n",
    "            errors += 1\n",
    "            \n",
    "        # Rate limiting\n",
    "        time.sleep(1)\n",
    "    \n",
    "    # Calculate metrics\n",
    "    accuracy = accuracy_score(true_labels, predictions)\n",
    "    f1 = f1_score(true_labels, predictions, average='weighted', zero_division=0)\n",
    "    avg_time = np.mean(processing_times)\n",
    "    total_cost = sum(costs)\n",
    "    error_rate = errors / len(test_cases)\n",
    "    \n",
    "    return BenchmarkResult(\n",
    "        model_name=model_name,\n",
    "        category_accuracy=accuracy,\n",
    "        extraction_f1=f1,\n",
    "        avg_processing_time=avg_time,\n",
    "        total_cost=total_cost,\n",
    "        samples_processed=len(test_cases),\n",
    "        error_rate=error_rate\n",
    "    ), predictions, true_labels\n",
    "\n",
    "# Run benchmarks\n",
    "benchmark_results = {}\n",
    "all_predictions = {}\n",
    "all_true_labels = {}\n",
    "\n",
    "for model in models_to_test:\n",
    "    try:\n",
    "        result, preds, true_labs = run_benchmark(model, synthetic_test_cases)\n",
    "        benchmark_results[model] = result\n",
    "        all_predictions[model] = preds\n",
    "        all_true_labels[model] = true_labs\n",
    "    except Exception as e:\n",
    "        print(f\"Failed to benchmark {model}: {e}\")"
   ]
  },
  {
   "cell_type": "code",
   "execution_count": 11,
   "metadata": {},
   "outputs": [],
   "source": [
    "results_df = pd.DataFrame([vars(result) for result in benchmark_results.values()])"
   ]
  },
  {
   "cell_type": "markdown",
   "metadata": {},
   "source": [
    "## Results Analysis"
   ]
  },
  {
   "cell_type": "code",
   "execution_count": null,
   "metadata": {},
   "outputs": [
    {
     "name": "stdout",
     "output_type": "stream",
     "text": [
      "Created 3 test cases\n"
     ]
    }
   ],
   "source": [
    "# Only generate demo base64 images if we don't already have test cases from `data/`.\n",
    "import base64\n",
    "\n",
    "if 'synthetic_test_cases' not in globals() or not synthetic_test_cases:\n",
    "    from PIL import Image\n",
    "    import io\n",
    "\n",
    "    def create_test_image(color=(255, 255, 255)):\n",
    "        img = Image.new('RGB', (100, 100), color)\n",
    "        buffer = io.BytesIO()\n",
    "        img.save(buffer, format='PNG')\n",
    "        img_str = base64.b64encode(buffer.getvalue()).decode()\n",
    "        return f\"data:image/png;base64,{img_str}\"\n",
    "\n",
    "    synthetic_test_cases = [\n",
    "        {'category': 'invoice', 'file_base64': create_test_image((255, 255, 255)), 'expected_entities': {'date': '2024-01-15', 'amount': '$299.99', 'merchant': 'Tech Store Inc'}},\n",
    "        {'category': 'marketplace_screenshot', 'file_base64': create_test_image((200, 200, 255)), 'expected_entities': {'product_title': 'iPhone 15 Pro', 'price': '$999', 'seller': 'John D.'}},\n",
    "        {'category': 'chat_screenshot', 'file_base64': create_test_image((200, 255, 200)), 'expected_entities': {'participants': ['John', 'Mary'], 'platform': 'WhatsApp'}},\n",
    "    ]\n",
    "\n",
    "    print(f\"Created {len(synthetic_test_cases)} demo image test cases\")\n",
    "else:\n",
    "    print(f\"Using {len(synthetic_test_cases)} test cases from data/\")\n"
   ]
  },
  {
   "cell_type": "code",
   "execution_count": 13,
   "metadata": {},
   "outputs": [
    {
     "data": {
      "image/png": "[encoded data removed]",
      "text/plain": [
       "<Figure size 1500x1200 with 4 Axes>"
      ]
     },
     "metadata": {},
     "output_type": "display_data"
    }
   ],
   "source": [
    "# Visualization\n",
    "fig, ((ax1, ax2), (ax3, ax4)) = plt.subplots(2, 2, figsize=(15, 12))\n",
    "\n",
    "# Accuracy comparison\n",
    "ax1.bar(results_df['model_name'], results_df['category_accuracy'])\n",
    "ax1.set_title('Classification Accuracy by Model')\n",
    "ax1.set_ylabel('Accuracy')\n",
    "ax1.set_ylim(0, 1)\n",
    "\n",
    "# Processing time comparison\n",
    "ax2.bar(results_df['model_name'], results_df['avg_processing_time'])\n",
    "ax2.set_title('Average Processing Time')\n",
    "ax2.set_ylabel('Time (seconds)')\n",
    "\n",
    "# Cost comparison\n",
    "ax3.bar(results_df['model_name'], results_df['total_cost'])\n",
    "ax3.set_title('Total Cost')\n",
    "ax3.set_ylabel('Cost ($)')\n",
    "\n",
    "# F1 Score comparison\n",
    "ax4.bar(results_df['model_name'], results_df['extraction_f1'])\n",
    "ax4.set_title('Extraction F1 Score')\n",
    "ax4.set_ylabel('F1 Score')\n",
    "ax4.set_ylim(0, 1)\n",
    "\n",
    "plt.tight_layout()\n",
    "plt.show()"
   ]
  },
  {
   "cell_type": "code",
   "execution_count": null,
   "metadata": {},
   "outputs": [
    {
     "name": "stdout",
     "output_type": "stream",
     "text": [
      "\n",
      "Benchmarking gemini-flash-2.5...\n"
     ]
    },
    {
     "name": "stderr",
     "output_type": "stream",
     "text": [
      "Processing gemini-flash-2.5:   0%|          | 0/3 [00:00<?, ?it/s]"
     ]
    },
    {
     "name": "stdout",
     "output_type": "stream",
     "text": [
      "Error with gemini-flash-2.5: OpenRouterClient.classify_and_extract() got an unexpected keyword argument 'file_base64'\n"
     ]
    },
    {
     "name": "stderr",
     "output_type": "stream",
     "text": [
      "Processing gemini-flash-2.5:  33%|███▎      | 1/3 [00:01<00:02,  1.01s/it]"
     ]
    },
    {
     "name": "stdout",
     "output_type": "stream",
     "text": [
      "Error with gemini-flash-2.5: OpenRouterClient.classify_and_extract() got an unexpected keyword argument 'file_base64'\n"
     ]
    },
    {
     "name": "stderr",
     "output_type": "stream",
     "text": [
      "Processing gemini-flash-2.5:  67%|██████▋   | 2/3 [00:02<00:01,  1.01s/it]"
     ]
    },
    {
     "name": "stdout",
     "output_type": "stream",
     "text": [
      "Error with gemini-flash-2.5: OpenRouterClient.classify_and_extract() got an unexpected keyword argument 'file_base64'\n"
     ]
    },
    {
     "name": "stderr",
     "output_type": "stream",
     "text": [
      "Processing gemini-flash-2.5: 100%|██████████| 3/3 [00:03<00:00,  1.01s/it]\n"
     ]
    },
    {
     "name": "stdout",
     "output_type": "stream",
     "text": [
      "\n",
      "Benchmarking mistral-ocr...\n"
     ]
    },
    {
     "name": "stderr",
     "output_type": "stream",
     "text": [
      "Processing mistral-ocr:   0%|          | 0/3 [00:00<?, ?it/s]"
     ]
    },
    {
     "name": "stdout",
     "output_type": "stream",
     "text": [
      "Error with mistral-ocr: OpenRouterClient.classify_and_extract() got an unexpected keyword argument 'file_base64'\n"
     ]
    },
    {
     "name": "stderr",
     "output_type": "stream",
     "text": [
      "Processing mistral-ocr:  33%|███▎      | 1/3 [00:01<00:02,  1.01s/it]"
     ]
    },
    {
     "name": "stdout",
     "output_type": "stream",
     "text": [
      "Error with mistral-ocr: OpenRouterClient.classify_and_extract() got an unexpected keyword argument 'file_base64'\n"
     ]
    },
    {
     "name": "stderr",
     "output_type": "stream",
     "text": [
      "Processing mistral-ocr:  67%|██████▋   | 2/3 [00:02<00:01,  1.01s/it]"
     ]
    },
    {
     "name": "stdout",
     "output_type": "stream",
     "text": [
      "Error with mistral-ocr: OpenRouterClient.classify_and_extract() got an unexpected keyword argument 'file_base64'\n"
     ]
    },
    {
     "name": "stderr",
     "output_type": "stream",
     "text": [
      "Processing mistral-ocr: 100%|██████████| 3/3 [00:03<00:00,  1.01s/it]\n"
     ]
    },
    {
     "name": "stdout",
     "output_type": "stream",
     "text": [
      "\n",
      "Benchmarking gpt-4o...\n"
     ]
    },
    {
     "name": "stderr",
     "output_type": "stream",
     "text": [
      "Processing gpt-4o:   0%|          | 0/3 [00:00<?, ?it/s]"
     ]
    },
    {
     "name": "stdout",
     "output_type": "stream",
     "text": [
      "Error with gpt-4o: OpenRouterClient.classify_and_extract() got an unexpected keyword argument 'file_base64'\n"
     ]
    },
    {
     "name": "stderr",
     "output_type": "stream",
     "text": [
      "Processing gpt-4o:  33%|███▎      | 1/3 [00:01<00:02,  1.01s/it]"
     ]
    },
    {
     "name": "stdout",
     "output_type": "stream",
     "text": [
      "Error with gpt-4o: OpenRouterClient.classify_and_extract() got an unexpected keyword argument 'file_base64'\n"
     ]
    },
    {
     "name": "stderr",
     "output_type": "stream",
     "text": [
      "Processing gpt-4o:  67%|██████▋   | 2/3 [00:02<00:01,  1.01s/it]"
     ]
    },
    {
     "name": "stdout",
     "output_type": "stream",
     "text": [
      "Error with gpt-4o: OpenRouterClient.classify_and_extract() got an unexpected keyword argument 'file_base64'\n"
     ]
    },
    {
     "name": "stderr",
     "output_type": "stream",
     "text": [
      "Processing gpt-4o: 100%|██████████| 3/3 [00:03<00:00,  1.01s/it]\n"
     ]
    }
   ],
   "source": [
    "def run_benchmark(model_name, test_cases):\n",
    "    print(f\"\\nBenchmarking {model_name}...\")\n",
    "    \n",
    "    predictions = []\n",
    "    true_labels = []\n",
    "    processing_times = []\n",
    "    costs = []\n",
    "    errors = 0\n",
    "    \n",
    "    for case in tqdm(test_cases, desc=f\"Processing {model_name}\"):\n",
    "        try:\n",
    "            start_time = time.time()\n",
    "            result = client.classify_and_extract(\n",
    "                file_base64=case['file_base64'], \n",
    "                model_name=model_name\n",
    "            )\n",
    "            \n",
    "            predictions.append(result.category.value)\n",
    "            true_labels.append(case['category'])\n",
    "            processing_times.append(result.processing_time or 0)\n",
    "            costs.append(result.cost or 0)\n",
    "            \n",
    "        except Exception as e:\n",
    "            print(f\"Error with {model_name}: {e}\")\n",
    "            predictions.append('other')\n",
    "            true_labels.append(case['category'])\n",
    "            processing_times.append(0)\n",
    "            costs.append(0)\n",
    "            errors += 1\n",
    "            \n",
    "        # Rate limiting\n",
    "        time.sleep(1)\n",
    "    \n",
    "    # Calculate metrics\n",
    "    accuracy = accuracy_score(true_labels, predictions)\n",
    "    f1 = f1_score(true_labels, predictions, average='weighted', zero_division=0)\n",
    "    avg_time = np.mean(processing_times)\n",
    "    total_cost = sum(costs)\n",
    "    error_rate = errors / len(test_cases)\n",
    "    \n",
    "  \n",
    "        model_name=model_name,\n",
    "        category_accuracy=accuracy,\n",
    "        extraction_f1=f1,\n",
    "        avg_processing_time=avg_time,\n",
    "        total_cost=total_cost,\n",
    "        samples_processed=len(test_cases),\n",
    "        error_rate=error_rate\n",
    "    ) predictions, true_labels\n",
    "\n",
    "# Run benchmarks\n",
    "benchmark_results = {}\n",
    "all_predictions = {}\n",
    "all_true_labels = {}\n",
    "\n",
    "for model in models_to_test:\n",
    "    try:\n",
    "        result, preds, true_labs = run_benchmark(model, synthetic_test_cases)\n",
    "        benchmark_results[model] = result\n",
    "        all_predictions[model] = preds\n",
    "        all_true_labels[model] = true_labs\n",
    "    except Exception as e:\n",
    "        print(f\"Failed to benchmark {model}: {e}\")"
   ]
  },
  {
   "cell_type": "markdown",
   "metadata": {},
   "source": [
    "## Summary and Recommendations"
   ]
  },
  {
   "cell_type": "code",
   "execution_count": 15,
   "metadata": {},
   "outputs": [
    {
     "name": "stdout",
     "output_type": "stream",
     "text": [
      "\n",
      "=== BENCHMARK SUMMARY ===\n",
      "Best Accuracy: gpt-4o (1.000)\n",
      "Fastest: mistral-ocr (0.109s)\n",
      "Most Cost-Effective: mistral-ocr ($0.0000)\n",
      "\n",
      "=== RECOMMENDATIONS ===\n",
      "• For production use: Choose model with best accuracy-cost balance\n",
      "• For high-volume processing: Consider fastest model\n",
      "• For budget constraints: Use most cost-effective model\n"
     ]
    }
   ],
   "source": [
    "# Find best model for each metric\n",
    "best_accuracy = results_df.loc[results_df['category_accuracy'].idxmax()]\n",
    "best_speed = results_df.loc[results_df['avg_processing_time'].idxmin()]\n",
    "best_cost = results_df.loc[results_df['total_cost'].idxmin()]\n",
    "\n",
    "print(\"\\n=== BENCHMARK SUMMARY ===\")\n",
    "print(f\"Best Accuracy: {best_accuracy['model_name']} ({best_accuracy['category_accuracy']:.3f})\")\n",
    "print(f\"Fastest: {best_speed['model_name']} ({best_speed['avg_processing_time']:.3f}s)\")\n",
    "print(f\"Most Cost-Effective: {best_cost['model_name']} (${best_cost['total_cost']:.4f})\")\n",
    "\n",
    "print(\"\\n=== RECOMMENDATIONS ===\")\n",
    "print(\"• For production use: Choose model with best accuracy-cost balance\")\n",
    "print(\"• For high-volume processing: Consider fastest model\")\n",
    "print(\"• For budget constraints: Use most cost-effective model\")"
   ]
  },
  {
   "cell_type": "code",
   "execution_count": 16,
   "metadata": {},
   "outputs": [
    {
     "name": "stdout",
     "output_type": "stream",
     "text": [
      "\n",
      "Results saved to benchmark_results.csv\n"
     ]
    }
   ],
   "source": [
    "# Save results\n",
    "results_df.to_csv('benchmark_results.csv', index=False)\n",
    "print(\"\\nResults saved to benchmark_results.csv\")"
   ]
  },
  {
   "cell_type": "code",
   "execution_count": null,
   "metadata": {},
   "outputs": [],
   "source": []
  }
 ],
 "metadata": {
  "kernelspec": {
   "display_name": ".venv",
   "language": "python",
   "name": "python3"
  },
  "language_info": {
   "codemirror_mode": {
    "name": "ipython",
    "version": 3
   },
   "file_extension": ".py",
   "mimetype": "text/x-python",
   "name": "python",
   "nbconvert_exporter": "python",
   "pygments_lexer": "ipython3",
   "version": "3.12.10"
  }
 },
 "nbformat": 4,
 "nbformat_minor": 4
}
